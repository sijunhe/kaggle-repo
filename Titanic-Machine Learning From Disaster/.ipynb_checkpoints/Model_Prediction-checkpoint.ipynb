{
 "cells": [
  {
   "cell_type": "code",
   "execution_count": 182,
   "metadata": {
    "collapsed": true
   },
   "outputs": [],
   "source": [
    "import csv\n",
    "import numpy as np\n",
    "import pandas as pd\n",
    "import pylab as plt\n",
    "import re\n",
    "from patsy import dmatrices\n",
    "%matplotlib inline  \n",
    "train = pd.read_csv('train.csv', header = 0)\n",
    "test = pd.read_csv('test.csv', header = 0)"
   ]
  },
  {
   "cell_type": "code",
   "execution_count": 183,
   "metadata": {
    "collapsed": false
   },
   "outputs": [
    {
     "name": "stdout",
     "output_type": "stream",
     "text": [
      "<class 'pandas.core.frame.DataFrame'>\n",
      "Int64Index: 891 entries, 0 to 890\n",
      "Data columns (total 12 columns):\n",
      "PassengerId    891 non-null int64\n",
      "Survived       891 non-null int64\n",
      "Pclass         891 non-null int64\n",
      "Name           891 non-null object\n",
      "Sex            891 non-null object\n",
      "Age            714 non-null float64\n",
      "SibSp          891 non-null int64\n",
      "Parch          891 non-null int64\n",
      "Ticket         891 non-null object\n",
      "Fare           891 non-null float64\n",
      "Cabin          204 non-null object\n",
      "Embarked       889 non-null object\n",
      "dtypes: float64(2), int64(5), object(5)\n",
      "memory usage: 90.5+ KB\n"
     ]
    }
   ],
   "source": [
    "train.info()"
   ]
  },
  {
   "cell_type": "code",
   "execution_count": 184,
   "metadata": {
    "collapsed": false
   },
   "outputs": [
    {
     "name": "stdout",
     "output_type": "stream",
     "text": [
      "<class 'pandas.core.frame.DataFrame'>\n",
      "Int64Index: 418 entries, 0 to 417\n",
      "Data columns (total 11 columns):\n",
      "PassengerId    418 non-null int64\n",
      "Pclass         418 non-null int64\n",
      "Name           418 non-null object\n",
      "Sex            418 non-null object\n",
      "Age            332 non-null float64\n",
      "SibSp          418 non-null int64\n",
      "Parch          418 non-null int64\n",
      "Ticket         418 non-null object\n",
      "Fare           417 non-null float64\n",
      "Cabin          91 non-null object\n",
      "Embarked       418 non-null object\n",
      "dtypes: float64(2), int64(4), object(5)\n",
      "memory usage: 39.2+ KB\n"
     ]
    }
   ],
   "source": [
    "test.info()"
   ]
  },
  {
   "cell_type": "markdown",
   "metadata": {},
   "source": [
    "### Data Cleaning\n",
    "In last post, we have done some exploratory analysis of the data and also built two simple models, which gave us decent prediction accuracy. In this post, our question is, Can we do better? \n",
    "We left off last time with Logistic Regression. And hopefully we just need to feed more predicators to the model for a better accuracy. However, before we can do that, we need to clean our data. We see that there are NAs in the Age, Fare, Cabin, and Embarked variables, so we will have to impute these values. For the Cabin variable, there are way too many NAs so imputing all those values would bring it an significant amount of noise. And the Cabin variable itself is hard to interpret anyways. So we will just impute the Age, Fare and Embarked variables."
   ]
  },
  {
   "cell_type": "code",
   "execution_count": 185,
   "metadata": {
    "collapsed": false
   },
   "outputs": [],
   "source": [
    "def clean_data(df):\n",
    "    # drop predicators that we are not going to use\n",
    "    df.drop(['Ticket','Cabin'],inplace=True,axis=1)\n",
    "    \n",
    "    # encode the sex class to 0, 1\n",
    "    df['Sex'] = df.Sex.map( {'female': 0, 'male': 1} ).astype(int)\n",
    "\n",
    "    # simply fill the missing Embarked value with \"S\" since there are only 2 NAs\n",
    "    df['Embarked'] = df.Embarked.fillna('S')\n",
    "    \n",
    "    # there is a 0 value in Fare column, which is unreasonable. Will have to replace it with NA first.\n",
    "    df.Fare = df.Fare.map(lambda x: np.nan if x==0 else x)\n",
    "    # build a pivot table to impute NAs with averaged Fare for all Pclass\n",
    "    fare_pivot_table = df.pivot_table(\"Fare\", index='Pclass', aggfunc='mean', dropna=True)\n",
    "    # use pivot table to impute missing fare values\n",
    "    df['Fare'] = df[['Fare', 'Pclass']].apply(lambda x: fare_pivot_table[x['Pclass']] if pd.isnull(x['Fare']) else x['Fare'], axis = 1)\n",
    "    \n",
    "    #build a pivot table to impute NAs with median Age according to Pclass and Sex\n",
    "    age_pivot_table = df.pivot_table('Age', index=['Pclass','Sex'], aggfunc='median',dropna=True)\n",
    "    df['Age'] = df[['Sex', 'Pclass', 'Age']].apply(lambda x: age_pivot_table[x.Pclass, x.Sex] if pd.isnull(x.Age) else x.Age, axis = 1)\n",
    "    \n",
    "    # define a age group categorical variable\n",
    "    df['AgeGroup'] = 'adult'\n",
    "    df.loc[ (df['Age']<=10) ,'AgeGroup'] = 'child'\n",
    "    df.loc[ (df['Age']>=60) ,'AgeGroup'] = 'senior'\n",
    "    \n",
    "    # define a fare group categorical variable\n",
    "    df['FareGroup'] = 'low'\n",
    "    df.loc[ (df['Fare']<=20) & (df['Fare']>10) ,'FareGroup'] = 'mid'\n",
    "    df.loc[ (df['Fare']<=30) & (df['Fare']>20) ,'FareGroup'] = 'mid-high'\n",
    "    df.loc[ (df['Fare']>30) ,'FareGroup'] = 'high'\n",
    "    \n",
    "    # Here we are adding interaction terms between predicators. I have included a few reasonable interaction terms in my mind \n",
    "    df['Family_Size']=train['SibSp']+train['Parch']+1\n",
    "    \n",
    "    # Generating the Title predicator\n",
    "    df['Title'] = df['Name'].apply(lambda x: getTitle(x))\n",
    "    df['Title'] = df.apply(getAndReplaceTitle, axis=1)\n",
    "\n",
    "    return df\n",
    "\n",
    "def getTitle(name):\n",
    "    # use regex to match the titles in passenger names\n",
    "    # titles are the characters preceded by a comma and a space (\", \") and succeeded by a period (\".\") in a passenger's name.\n",
    "    # Here we use the positive lookbehind assertion to find the preceding (\", \") and the positive lookahead assertion to match the succeeding (\".\").\n",
    "    m = re.search('(?<=,\\s)[a-zA-z\\s]+(?=\\.)', name)\n",
    "    if m is None: \n",
    "        return np.nan\n",
    "    else:\n",
    "        return m.group(0)\n",
    "    \n",
    "def getAndReplaceTitle(df):\n",
    "    # combine similar titles\n",
    "    # the majority of the titles are pretty rare, which doesn't give much information about the passenger.\n",
    "    title = df['Title']\n",
    "    if title in ['Mr','Don', 'Major', 'Capt', 'Jonkheer', 'Rev', 'Col','Sir']:\n",
    "        return 'Mr'\n",
    "    elif title in ['the Countess', 'Mme','Mrs','Lady','Dona']:\n",
    "        return 'Mrs'\n",
    "    elif title in ['Mlle', 'Ms','Miss']:\n",
    "        return 'Miss'\n",
    "    elif title =='Dr':\n",
    "            if df['Sex']=='Male':\n",
    "                return 'Mr'\n",
    "            else:\n",
    "                return 'Mrs'\n",
    "    else:\n",
    "        return title\n"
   ]
  },
  {
   "cell_type": "markdown",
   "metadata": {},
   "source": [
    "Not only did we impute the missing values, we also added in lots of additional predicators that could be correlated to the survival rate, since the correlation between survival rate and predicators might not be fully captured by the variables we had. Note that introducing new predicators, especaiily new categorical predicators, would increases the dimensionality of the data, which could potentially impact our prediction accuracy due to curse of dimensionality. Therefore we will use feature selection technique in our models"
   ]
  },
  {
   "cell_type": "code",
   "execution_count": 186,
   "metadata": {
    "collapsed": false
   },
   "outputs": [
    {
     "name": "stderr",
     "output_type": "stream",
     "text": [
      "/Library/Frameworks/Python.framework/Versions/2.7/lib/python2.7/site-packages/ipykernel/__main__.py:16: FutureWarning: scalar indexers for index type Int64Index should be integers and not floating point\n"
     ]
    }
   ],
   "source": [
    "train = clean_data(train)\n",
    "test = clean_data(test)"
   ]
  },
  {
   "cell_type": "code",
   "execution_count": 187,
   "metadata": {
    "collapsed": false
   },
   "outputs": [],
   "source": [
    "#define a function in order to simplify future predictions and output\n",
    "def predictAndOutput(estimator, output_filename):\n",
    "        estimator.fit(train_data.values, train_response.values.ravel())\n",
    "        output = estimator.predict(test_data).astype(int)\n",
    "        submission = pd.DataFrame({\"PassengerId\": test[\"PassengerId\"],\"Survived\": output})\n",
    "        submission.to_csv(output_filename, index=False)\n",
    "        return output"
   ]
  },
  {
   "cell_type": "markdown",
   "metadata": {},
   "source": [
    "## Logistic Regression"
   ]
  },
  {
   "cell_type": "code",
   "execution_count": 216,
   "metadata": {
    "collapsed": false
   },
   "outputs": [],
   "source": [
    "from sklearn.grid_search import GridSearchCV\n",
    "from sklearn.linear_model import LogisticRegression\n",
    "formula = 'Survived ~ C(Pclass) + Sex  + Age + SibSp + Parch + Family_Size + Fare + C(Embarked)+ C(Title) + C(AgeGroup)'\n",
    "train_response,train_data = dmatrices(formula, data=train, return_type=\"dataframe\")\n",
    "test['Survived'] = 1 #insert a dummy survived variable in order to create dmatrices\n",
    "test_response,test_data = dmatrices(formula, data=test, return_type=\"dataframe\")\n",
    "\n",
    "LRModel = LogisticRegression()\n",
    "# Exhaustive search over all parameter combinations for the estimator that produce the best CV error\n",
    "param_grid = {'penalty':['l1','l2'], 'C': [0.001, 0.01, 0.1, 1, 10, 100, 1000] }\n",
    "GridSearch = GridSearchCV(LRModel, param_grid, cv = 10)\n",
    "GridSearch.fit(train_data.values, train_response.values.ravel())\n",
    "bestLRclf = GridSearch.best_estimator_\n",
    "LRprediction = predictAndOutput(bestLRclf, \"LROutput.csv\")"
   ]
  },
  {
   "cell_type": "markdown",
   "metadata": {},
   "source": [
    "We got **0.77990** this times, which is an great improvement over the 2 simple models we had in last post. Hooray, moving up the ladder! Let's take a look at the classifier that gave us the best results. "
   ]
  },
  {
   "cell_type": "code",
   "execution_count": 217,
   "metadata": {
    "collapsed": false,
    "scrolled": true
   },
   "outputs": [
    {
     "name": "stdout",
     "output_type": "stream",
     "text": [
      "C(Pclass)[T.2] -0.905477959537\n",
      "C(Pclass)[T.3] -1.97896459743\n",
      "C(Embarked)[T.Q] 0.0\n",
      "C(Embarked)[T.S] -0.299162084187\n",
      "C(Title)[T.Miss] -0.573336914082\n",
      "C(Title)[T.Mr] -2.58797777339\n",
      "C(Title)[T.Mrs] 0.0\n",
      "C(AgeGroup)[T.child] 0.284813224479\n",
      "C(AgeGroup)[T.senior] 0.0\n",
      "Sex -0.78528900026\n",
      "Age -0.025393089303\n",
      "SibSp -0.49647079287\n",
      "Parch -0.266397881617\n",
      "Family_Size 0.0\n",
      "Fare 0.00330362443408\n"
     ]
    }
   ],
   "source": [
    "for i in range(1,len(train_data.columns.values)):\n",
    "    print train_data.columns.values[i] , bestLRclf.coef_[0][i]"
   ]
  },
  {
   "cell_type": "markdown",
   "metadata": {},
   "source": [
    "We can tell from the coefficients of the predicators that some of the coefficients has been regularized to 0, which means that the predicator was not selected by the model. For the coefficients we can also observe the effect of the predicators. For example, passenger of Pclass 2 or 3would have a lower survival rate compared with passenger of Pclass 1 due to the negative coefficients. "
   ]
  },
  {
   "cell_type": "markdown",
   "metadata": {
    "collapsed": true
   },
   "source": [
    "## Random Forest"
   ]
  },
  {
   "cell_type": "markdown",
   "metadata": {},
   "source": [
    "Now we will move on to the more complicated Ensemble models, which usually offer the best out-of-box prediction accuracy. [Random Forest](https://en.wikipedia.org/wiki/Random_forest) is one of the most commonly-used Ensemble method that is operated by constructing a random multitude of decision trees at training time and outputting the class that is the mode of the classes."
   ]
  },
  {
   "cell_type": "code",
   "execution_count": 236,
   "metadata": {
    "collapsed": false
   },
   "outputs": [],
   "source": [
    "from sklearn.ensemble import RandomForestClassifier\n",
    "RFModel = RandomForestClassifier(random_state=1, n_estimators=200)\n",
    "param_grid = {'max_features':['sqrt',2, 5, 10, 15], 'min_samples_split':[4, 8, 10], 'min_samples_leaf':[2, 4, 6]}\n",
    "GridSearch = GridSearchCV(RFModel, param_grid, cv = 10)\n",
    "GridSearch.fit(train_data.values, train_response.values.ravel())\n",
    "bestRFclf = GridSearch.best_estimator_\n",
    "RFprediction = predictAndOutput(bestRFclf, \"RFOutput.csv\")"
   ]
  },
  {
   "cell_type": "markdown",
   "metadata": {},
   "source": [
    "The most important parameters that we can tune for Random Forest is max_features, which is the number of features to consider when looking for the best split. Decreasing the max_features could improve randomness and reduce variance, while increasing the max_features would move the random forest more towards bagging. Min_samples_split and Min_samples_leaf are two stopping criteria of Random Forest that could contribute to overfitting. The GridSearchCV here is an exhaustive search over all parameter combinations for the estimator that produce the best 10-fold CV error.\n",
    "The Random Forest Method achieved an accuracy of **0.77990** again."
   ]
  },
  {
   "cell_type": "code",
   "execution_count": 237,
   "metadata": {
    "collapsed": false
   },
   "outputs": [
    {
     "data": {
      "image/png": "[encoded data removed]",
      "text/plain": [
       "<matplotlib.figure.Figure at 0x10b178990>"
      ]
     },
     "metadata": {},
     "output_type": "display_data"
    }
   ],
   "source": [
    "indices = np.argsort(bestRFclf.feature_importances_)[::-1]\n",
    "plt.figure()\n",
    "plt.title(\"Feature importances\")\n",
    "plt.barh(range(len(train_data.columns.values)), bestRFclf.feature_importances_[indices], color=\"r\")\n",
    "plt.yticks(range(len(train_data.columns.values)), train_data.columns.values[indices])\n",
    "plt.show()"
   ]
  },
  {
   "cell_type": "markdown",
   "metadata": {},
   "source": [
    "This plot illustrates the feature importantces generated from Random Forest. It is interesting that the dummy variable of Title Mr. is the most important feature, while Title Mrs. and Title Miss. are among the least influential features. The Age, Fare, Pclass and Sex variables also rank high in terms of importances, which is expected.\n",
    "## Blend Models\n",
    "We have tried our hands at two models so far and they produced the exact same accuracy. So do both of the models make the same prediction on every test passengers? If not, we could somehow blend these two models together for a better result. "
   ]
  },
  {
   "cell_type": "code",
   "execution_count": 244,
   "metadata": {
    "collapsed": false
   },
   "outputs": [
    {
     "name": "stdout",
     "output_type": "stream",
     "text": [
      "[1, 6, 19, 28, 32, 33, 34, 36, 37, 39, 41, 55, 63, 72, 86, 87, 88, 90, 94, 127, 132, 138, 144, 148, 158, 159, 169, 192, 199, 206, 249, 252, 268, 280, 291, 309, 313, 323, 344, 347, 367, 379, 382, 389, 390, 403, 409, 412, 417]\n",
      "Proportion of the predictions that the two models disagree on is  0.101871101871\n"
     ]
    }
   ],
   "source": [
    "# Generating a list of test passenger indexes that have different predictions from the two models\n",
    "different = list()\n",
    "for i in range(len(RFprediction)):\n",
    "    if RFprediction[i] != LRprediction[i]:\n",
    "        different.append(i)\n",
    "print different\n",
    "print \"Proportion of the predictions that the two models disagree on is \" , len(different)/float(481)"
   ]
  },
  {
   "cell_type": "markdown",
   "metadata": {},
   "source": [
    "It does turn out that the two models didn't make the same prediction on every passengers, as the output shows that the models diagree on about 10% of prediction. This is quite desirable since we are very confident on the rest 90% of the predictions. Now we just needed to find a way to blend the two models together.  "
   ]
  },
  {
   "cell_type": "code",
   "execution_count": 246,
   "metadata": {
    "collapsed": false
   },
   "outputs": [
    {
     "name": "stdout",
     "output_type": "stream",
     "text": [
      "[[ 0.33960866  0.66039134]\n",
      " [ 0.29814563  0.70185437]\n",
      " [ 0.6590034   0.3409966 ]\n",
      " [ 0.53082693  0.46917307]]\n"
     ]
    }
   ],
   "source": [
    "LRProba = bestLRclf.predict_proba(test_data)\n",
    "print LRProba[different[1:5]]"
   ]
  },
  {
   "cell_type": "markdown",
   "metadata": {},
   "source": [
    "For a ensemble method like Random Forest, the interpretbility is very low. However, the Logistic Regression method is actually very intrepretible, as we can compute the probabiliities of the binary responses for each predictions. Here we can see that for the 2nd prediction that the models differed on, the probabilities for 0 and 1 are 0.298 and 0.702, which means that the logistic regression was quite confident that this passengers was gonna survive, whereas for the 5th prediction that the models differed on, the probabilities for 0 and 1 are 0.530 and 0.469, the logistic regression was a lot less confident. Using the probabilities, we could derive an simple method to predict when the two models disagree. "
   ]
  },
  {
   "cell_type": "code",
   "execution_count": 245,
   "metadata": {
    "collapsed": false
   },
   "outputs": [],
   "source": [
    "from copy import deepcopy\n",
    "CombinePrediction = deepcopy(RFprediction)\n",
    "for i in range(len(different)):\n",
    "    # If the probabilties of survival is greater than 0.7, predict survived\n",
    "    if LRProba[different[i]][0] > 0.7:\n",
    "        CombinePrediction[different[i]] = 0\n",
    "    # If the probabilties of survival is less than 0.3, predict perished   \n",
    "    elif LRProba[different[i]][0] < 0.3:\n",
    "        CombinePrediction[different[i]] = 1\n",
    "    else:\n",
    "        continue\n",
    "submission = pd.DataFrame({\"PassengerId\": test[\"PassengerId\"],\"Survived\": CombinePrediction})\n",
    "submission.to_csv(\"CombineOutput.csv\", index=False)"
   ]
  },
  {
   "cell_type": "markdown",
   "metadata": {},
   "source": [
    "This gives us **0.79904**, the best we have had so far and top 25% on the public leaderboard. \n",
    "## Areas of Improvement\n",
    "Of course there is still a lot of room for improvement. \n",
    "- Better tunning of parameters on Logistic Regression and Random Forest. Some people could use one single method to achieve 0.81 or above. Maybe include  [Pipeline](http://scikit-learn.org/stable/modules/generated/sklearn.pipeline.Pipeline.html) in the CV process.\n",
    "- Do a few models and combine them using majority vote. Maybe SVM, or Gradient Boosting. \n",
    "- Better imputation on missing values\n",
    "- Make use of familiy lastnames as a predicator.\n"
   ]
  }
 ],
 "metadata": {
  "kernelspec": {
   "display_name": "Python 2",
   "language": "python",
   "name": "python2"
  },
  "language_info": {
   "codemirror_mode": {
    "name": "ipython",
    "version": 2
   },
   "file_extension": ".py",
   "mimetype": "text/x-python",
   "name": "python",
   "nbconvert_exporter": "python",
   "pygments_lexer": "ipython2",
   "version": "2.7.6"
  }
 },
 "nbformat": 4,
 "nbformat_minor": 0
}
