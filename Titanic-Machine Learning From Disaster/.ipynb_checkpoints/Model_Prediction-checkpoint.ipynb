{
 "cells": [
  {
   "cell_type": "code",
   "execution_count": 134,
   "metadata": {
    "collapsed": true
   },
   "outputs": [],
   "source": [
    "import csv\n",
    "import numpy as np\n",
    "import pandas as pd\n",
    "import pylab as p\n",
    "%matplotlib inline  \n",
    "train = pd.read_csv('train.csv', header = 0)\n",
    "test = pd.read_csv('test.csv', header = 0)"
   ]
  },
  {
   "cell_type": "code",
   "execution_count": 135,
   "metadata": {
    "collapsed": false
   },
   "outputs": [
    {
     "name": "stdout",
     "output_type": "stream",
     "text": [
      "<class 'pandas.core.frame.DataFrame'>\n",
      "Int64Index: 891 entries, 0 to 890\n",
      "Data columns (total 12 columns):\n",
      "PassengerId    891 non-null int64\n",
      "Survived       891 non-null int64\n",
      "Pclass         891 non-null int64\n",
      "Name           891 non-null object\n",
      "Sex            891 non-null object\n",
      "Age            714 non-null float64\n",
      "SibSp          891 non-null int64\n",
      "Parch          891 non-null int64\n",
      "Ticket         891 non-null object\n",
      "Fare           891 non-null float64\n",
      "Cabin          204 non-null object\n",
      "Embarked       889 non-null object\n",
      "dtypes: float64(2), int64(5), object(5)\n",
      "memory usage: 90.5+ KB\n"
     ]
    }
   ],
   "source": [
    "train.info()"
   ]
  },
  {
   "cell_type": "code",
   "execution_count": 136,
   "metadata": {
    "collapsed": false
   },
   "outputs": [
    {
     "name": "stdout",
     "output_type": "stream",
     "text": [
      "<class 'pandas.core.frame.DataFrame'>\n",
      "Int64Index: 418 entries, 0 to 417\n",
      "Data columns (total 11 columns):\n",
      "PassengerId    418 non-null int64\n",
      "Pclass         418 non-null int64\n",
      "Name           418 non-null object\n",
      "Sex            418 non-null object\n",
      "Age            332 non-null float64\n",
      "SibSp          418 non-null int64\n",
      "Parch          418 non-null int64\n",
      "Ticket         418 non-null object\n",
      "Fare           417 non-null float64\n",
      "Cabin          91 non-null object\n",
      "Embarked       418 non-null object\n",
      "dtypes: float64(2), int64(4), object(5)\n",
      "memory usage: 39.2+ KB\n"
     ]
    }
   ],
   "source": [
    "test.info()"
   ]
  },
  {
   "cell_type": "markdown",
   "metadata": {},
   "source": [
    "With the exploratory visualization from the last point, we have some idea what out data looks like. We know that the survival rate is in some way related to Pclass, Sex, Age, Fare and Embarked, but we haven't got any chance to explore the rest of the predicators. So, let's start building models and making predictions. "
   ]
  },
  {
   "cell_type": "markdown",
   "metadata": {},
   "source": [
    "### Gender-based Model"
   ]
  },
  {
   "cell_type": "markdown",
   "metadata": {},
   "source": [
    "From last post, we know that the most influential predicator in the data set is Sex, as survival rate differs dramatically between male and female passengers. Given the low survival rate of male and high survival rate of female, the easiest possible model is to simply predict 0 for male and 1 for female."
   ]
  },
  {
   "cell_type": "code",
   "execution_count": 137,
   "metadata": {
    "collapsed": true
   },
   "outputs": [],
   "source": [
    "#simply creating a Survival variable, mappped from the Sex variable\n",
    "test['Survived'] = test['Sex'].map( {'female': 1, 'male': 0} ).astype(int)"
   ]
  },
  {
   "cell_type": "markdown",
   "metadata": {},
   "source": [
    "The output of the head() function tells us our change to the data frame is effective and we have already made our first prediction! Next, we just need to export the data to a csv file and submit to Kaggle."
   ]
  },
  {
   "cell_type": "code",
   "execution_count": 138,
   "metadata": {
    "collapsed": false
   },
   "outputs": [],
   "source": [
    "prediction_file = open(\"Gender-BasedModel.csv\", \"wb\")\n",
    "out = csv.writer(prediction_file)\n",
    "out.writerow([\"PassengerId\", \"Survived\"])\n",
    "for i in range(0, len(test.PassengerId)):\n",
    "    out.writerow([test.PassengerId[i], test.Survived[i]])\n",
    "prediction_file.close()"
   ]
  },
  {
   "cell_type": "markdown",
   "metadata": {},
   "source": [
    "The results of the gender-based prediction was **0.76555**, which is surprisingly good for a single line of prediction code! Of course we are not going to call it a day. Let's see if we could incorporate Pclass or Age in the model. Now we are including more predicators, so predicting based on a few logical conditions will be hard to accomplished. It is time to bring in some models. But before that, we need to clean our data.  \n",
    "### Data Cleaning\n",
    "However, before we can do that, we need to clean our data. We see that there are NAs in the Age, Fare, Cabin, and Embarked variables, so we will have to impute these values. For the Cabin variable, there are way too many NAs so imputing all those values would bring it an significant amount of noise. And the Cabin variable itself is hard to interpret anyways. So we will just impute the Age, Fare and Embarked variables."
   ]
  },
  {
   "cell_type": "code",
   "execution_count": 139,
   "metadata": {
    "collapsed": true
   },
   "outputs": [],
   "source": [
    "def clean_data(df):\n",
    "    # simply fill the missing Embarked value with \"S\" since there are only 2 NAs\n",
    "    df.Embarked = train.Embarked.fillna('S')\n",
    "    \n",
    "    # there is a 0 value in Fare column, which is unreasonable. Will have to replace it with NA first.\n",
    "    df.Fare = df.Fare.map(lambda x: np.nan if x==0 else x)\n",
    "    #build a pivot table to impute NAs with averaged Fare for all Pclass\n",
    "    fare_pivot_table = df.pivot_table(\"Fare\", index='Pclass', aggfunc='mean', dropna=True)\n",
    "    #use pivot table to impute missing fare values\n",
    "    df.Fare = df[['Fare', 'Pclass']].apply(lambda x: fare_pivot_table[x['Pclass']] if pd.isnull(x['Fare']) else x['Fare'], axis = 1)\n",
    "    \n",
    "    #build a pivot table to impute NAs with median Age according to Pclass and Sex\n",
    "    age_pivot_table = df.pivot_table('Age', index=['Pclass','Sex'], aggfunc='median',dropna=True)\n",
    "    df.Age = df[['Sex', 'Pclass', 'Age']].apply(lambda x: age_pivot_table[x.Pclass, x.Sex] if pd.isnull(x.Age) else x.Age, axis = 1)\n",
    "    \n",
    "    # Here we are adding interaction terms between predicators. I have included a few reasonable interaction terms in my mind \n",
    "    df['Family_Size']=train['SibSp']+train['Parch']\n",
    "    df['FarePerFamilyMember']=train['Fare']/(train['Family_Size']+1)\n",
    "\n",
    "    return df"
   ]
  },
  {
   "cell_type": "code",
   "execution_count": 140,
   "metadata": {
    "collapsed": false
   },
   "outputs": [
    {
     "name": "stderr",
     "output_type": "stream",
     "text": [
      "/Library/Frameworks/Python.framework/Versions/2.7/lib/python2.7/site-packages/ipykernel/__main__.py:10: FutureWarning: scalar indexers for index type Int64Index should be integers and not floating point\n"
     ]
    }
   ],
   "source": [
    "train = clean_data(train)\n",
    "test = clean_data(test)"
   ]
  },
  {
   "cell_type": "markdown",
   "metadata": {},
   "source": [
    "\n",
    "\n",
    "### Logistic Regression\n",
    "Now it is time to bring in some model and add in predicators. Let's try our hands at [Logistic Regression](https://en.wikipedia.org/wiki/Logistic_regression) first, since it is one of the most interpretable classification model in my opinion. We'll start with an extremely simple case of just 2 predicators: Pclass and Sex  "
   ]
  },
  {
   "cell_type": "code",
   "execution_count": 154,
   "metadata": {
    "collapsed": false
   },
   "outputs": [],
   "source": [
    "from patsy import dmatrices\n",
    "from sklearn.linear_model import LogisticRegression\n",
    "#setting formula to predict Survived with Pclass and Sex\n",
    "formula1 = 'Survived ~ C(Pclass) + C(Sex)'\n",
    "train_response,train_data = dmatrices(formula1, data=train, return_type=\"dataframe\")\n",
    "test_response,test_data = dmatrices(formula1, data=test, return_type=\"dataframe\")\n",
    "LRmodel = LogisticRegression()\n",
    "LRmodel.fit(train_data.values, train_response.values.ravel())\n",
    "LRoutput1 = LRmodel.predict(test_data).astype(int)\n",
    "prediction_file = open(\"Gender-PclassBasedModel.csv\", \"wb\")\n",
    "out = csv.writer(prediction_file)\n",
    "out.writerow([\"PassengerId\", \"Survived\"])\n",
    "for i in range(0, len(test.PassengerId)):\n",
    "    out.writerow([test.PassengerId[i], LRoutput1[i]])\n",
    "prediction_file.close()"
   ]
  },
  {
   "cell_type": "markdown",
   "metadata": {},
   "source": [
    "Seems like we got the exact same result 0.76555 again. Why is that? Shouldn't an adding an predicator change some of our predictions? Here is why. "
   ]
  },
  {
   "cell_type": "code",
   "execution_count": 155,
   "metadata": {
    "collapsed": false,
    "scrolled": false
   },
   "outputs": [
    {
     "name": "stdout",
     "output_type": "stream",
     "text": [
      "Given Pclass = 1 and Sex = female, predict 1 for survival. \n",
      "Given Pclass = 1 and Sex = male, predict 0 for survival. \n",
      "Given Pclass = 3 and Sex = female, predict 1 for survival. \n",
      "Given Pclass = 3 and Sex = male, predict 0 for survival. \n",
      "Given Pclass = 2 and Sex = female, predict 1 for survival. \n",
      "Given Pclass = 2 and Sex = male, predict 0 for survival. \n"
     ]
    }
   ],
   "source": [
    "for i in range(0,2):\n",
    "    for j in range(0,2):\n",
    "        for k in range(0,2):\n",
    "            if i == 1:\n",
    "                Pclass = 2\n",
    "            elif j == 1:\n",
    "                Pclass = 3\n",
    "            else: \n",
    "                Pclass = 1\n",
    "            if i == j ==1:\n",
    "                break    \n",
    "            if k ==1:\n",
    "                sex = \"male\"\n",
    "            else:\n",
    "                sex = \"female\"\n",
    "            print \"Given Pclass = %d and Sex = %s, predict %d for survival. \" % (Pclass,sex, LRmodel.predict([[1,i,j,k]])) "
   ]
  },
  {
   "cell_type": "code",
   "execution_count": 156,
   "metadata": {
    "collapsed": false
   },
   "outputs": [
    {
     "name": "stdout",
     "output_type": "stream",
     "text": [
      "Pclass  Sex   \n",
      "1       female    0.968085\n",
      "        male      0.368852\n",
      "2       female    0.921053\n",
      "        male      0.157407\n",
      "3       female    0.500000\n",
      "        male      0.135447\n",
      "Name: Survived, dtype: float64\n"
     ]
    }
   ],
   "source": [
    "print train.pivot_table('Survived', index=['Pclass','Sex'], aggfunc='mean')"
   ]
  },
  {
   "cell_type": "markdown",
   "metadata": {},
   "source": [
    "Turns out that the predications stays the same, with or without the Pclass prediactor. Logistic Regression computes the probabilities for each response and predicts the response with largest likelihood. In this case, as we can see from the above pivot table, the most probable survival response for female is 1 and 0 for male, despite the change in survival rate due to Pclass, which is why the predictions stay the same.  \n",
    "\n",
    "Even though we didn't improve the model with the addition of the Pclass predicators, our effort was not totally worthless. Now we can add more variables to the Logistic Regression, hoping it would produce a more accurate prediction with the extra data. But how do we know that a full model is better than a 5-predicator model or a 7-prediactor model? Time for feature selection. Here we use a recursion feature elimination technique and use cross validation to evaluate the test accuracy of models. A good reference example for RFECV is [here](http://scikit-learn.org/stable/auto_examples/feature_selection/plot_rfe_with_cross_validation.html)\n",
    "\n"
   ]
  },
  {
   "cell_type": "code",
   "execution_count": 159,
   "metadata": {
    "collapsed": false
   },
   "outputs": [
    {
     "name": "stdout",
     "output_type": "stream",
     "text": [
      "Optimal number of features : 10\n"
     ]
    },
    {
     "data": {
      "image/png": "[encoded data removed]",
      "text/plain": [
       "<matplotlib.figure.Figure at 0x10935d610>"
      ]
     },
     "metadata": {},
     "output_type": "display_data"
    }
   ],
   "source": [
    "formula2 = 'Survived ~ C(Pclass) + C(Sex)  + Age + SibSp + Parch + Family_Size + FarePerFamilyMember + C(Embarked)'\n",
    "train_response,train_data = dmatrices(formula2, data=train, return_type=\"dataframe\")\n",
    "test_response,test_data = dmatrices(formula2, data=test, return_type=\"dataframe\")\n",
    "\n",
    "from sklearn.feature_selection import RFECV\n",
    "rfecv = RFECV(estimator=LogisticRegression(), scoring='accuracy')\n",
    "rfecv.fit(train_data.values, train_response.values.ravel())\n",
    "print(\"Optimal number of features : %d\" % rfecv.n_features_)\n",
    "\n",
    "# Plot number of features VS. cross-validation scores\n",
    "p.figure()\n",
    "p.xlabel(\"Number of features selected\")\n",
    "p.ylabel(\"Cross validation score (nb of correct classifications)\")\n",
    "p.plot(range(1, len(rfecv.grid_scores_) + 1), rfecv.grid_scores_)\n",
    "p.show()"
   ]
  },
  {
   "cell_type": "markdown",
   "metadata": {},
   "source": [
    "The RFECV confirmes that our full model of 10 prediactors has the best CV error"
   ]
  },
  {
   "cell_type": "code",
   "execution_count": 160,
   "metadata": {
    "collapsed": false
   },
   "outputs": [],
   "source": [
    "LRmodel2 = LogisticRegression()\n",
    "LRmodel2.fit(train_data.values, train_response.values.ravel())\n",
    "LRoutput2 = LRmodel2.predict(test_data).astype(int)\n",
    "prediction_file = open(\"LRModel.csv\", \"wb\")\n",
    "out = csv.writer(prediction_file)\n",
    "out.writerow([\"PassengerId\", \"Survived\"])\n",
    "for i in range(0, len(test.PassengerId)):\n",
    "    out.writerow([test.PassengerId[i], LRoutput2[i]])\n",
    "prediction_file.close()"
   ]
  },
  {
   "cell_type": "markdown",
   "metadata": {},
   "source": [
    "We got **0.77033** this times, which is an improvement over the 2-predicator Logistic Regression. Hooray! But do we still have space for improvement? Of course we do. We can either try another model, or dig more out of the data. There is a Name Column, which could be helpful in some ways. Maybe a more noble title indicates a higher social status and a higher survival rate. Maybe a family that shares the same lastname all perished or survived. Who knows? "
   ]
  },
  {
   "cell_type": "code",
   "execution_count": null,
   "metadata": {
    "collapsed": true
   },
   "outputs": [],
   "source": []
  }
 ],
 "metadata": {
  "kernelspec": {
   "display_name": "Python 2",
   "language": "python",
   "name": "python2"
  },
  "language_info": {
   "codemirror_mode": {
    "name": "ipython",
    "version": 2
   },
   "file_extension": ".py",
   "mimetype": "text/x-python",
   "name": "python",
   "nbconvert_exporter": "python",
   "pygments_lexer": "ipython2",
   "version": "2.7.6"
  }
 },
 "nbformat": 4,
 "nbformat_minor": 0
}
